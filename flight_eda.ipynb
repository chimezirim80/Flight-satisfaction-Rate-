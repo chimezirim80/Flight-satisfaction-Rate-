{
 "cells": [
  {
   "cell_type": "code",
   "execution_count": 1,
   "metadata": {},
   "outputs": [
    {
     "data": {
      "text/html": [
       "<div>\n",
       "<style scoped>\n",
       "    .dataframe tbody tr th:only-of-type {\n",
       "        vertical-align: middle;\n",
       "    }\n",
       "\n",
       "    .dataframe tbody tr th {\n",
       "        vertical-align: top;\n",
       "    }\n",
       "\n",
       "    .dataframe thead th {\n",
       "        text-align: right;\n",
       "    }\n",
       "</style>\n",
       "<table border=\"1\" class=\"dataframe\">\n",
       "  <thead>\n",
       "    <tr style=\"text-align: right;\">\n",
       "      <th></th>\n",
       "      <th>Unnamed: 0</th>\n",
       "      <th>id</th>\n",
       "      <th>Gender</th>\n",
       "      <th>Customer Type</th>\n",
       "      <th>Age</th>\n",
       "      <th>Type of Travel</th>\n",
       "      <th>Class</th>\n",
       "      <th>Flight Distance</th>\n",
       "      <th>Inflight wifi service</th>\n",
       "      <th>Departure/Arrival time convenient</th>\n",
       "      <th>...</th>\n",
       "      <th>Inflight entertainment</th>\n",
       "      <th>On-board service</th>\n",
       "      <th>Leg room service</th>\n",
       "      <th>Baggage handling</th>\n",
       "      <th>Checkin service</th>\n",
       "      <th>Inflight service</th>\n",
       "      <th>Cleanliness</th>\n",
       "      <th>Departure Delay in Minutes</th>\n",
       "      <th>Arrival Delay in Minutes</th>\n",
       "      <th>satisfaction</th>\n",
       "    </tr>\n",
       "  </thead>\n",
       "  <tbody>\n",
       "    <tr>\n",
       "      <th>0</th>\n",
       "      <td>0</td>\n",
       "      <td>19556</td>\n",
       "      <td>Female</td>\n",
       "      <td>Loyal Customer</td>\n",
       "      <td>52</td>\n",
       "      <td>Business travel</td>\n",
       "      <td>Eco</td>\n",
       "      <td>160</td>\n",
       "      <td>5</td>\n",
       "      <td>4</td>\n",
       "      <td>...</td>\n",
       "      <td>5</td>\n",
       "      <td>5</td>\n",
       "      <td>5</td>\n",
       "      <td>5</td>\n",
       "      <td>2</td>\n",
       "      <td>5</td>\n",
       "      <td>5</td>\n",
       "      <td>50</td>\n",
       "      <td>44.0</td>\n",
       "      <td>satisfied</td>\n",
       "    </tr>\n",
       "    <tr>\n",
       "      <th>1</th>\n",
       "      <td>1</td>\n",
       "      <td>90035</td>\n",
       "      <td>Female</td>\n",
       "      <td>Loyal Customer</td>\n",
       "      <td>36</td>\n",
       "      <td>Business travel</td>\n",
       "      <td>Business</td>\n",
       "      <td>2863</td>\n",
       "      <td>1</td>\n",
       "      <td>1</td>\n",
       "      <td>...</td>\n",
       "      <td>4</td>\n",
       "      <td>4</td>\n",
       "      <td>4</td>\n",
       "      <td>4</td>\n",
       "      <td>3</td>\n",
       "      <td>4</td>\n",
       "      <td>5</td>\n",
       "      <td>0</td>\n",
       "      <td>0.0</td>\n",
       "      <td>satisfied</td>\n",
       "    </tr>\n",
       "    <tr>\n",
       "      <th>2</th>\n",
       "      <td>2</td>\n",
       "      <td>12360</td>\n",
       "      <td>Male</td>\n",
       "      <td>disloyal Customer</td>\n",
       "      <td>20</td>\n",
       "      <td>Business travel</td>\n",
       "      <td>Eco</td>\n",
       "      <td>192</td>\n",
       "      <td>2</td>\n",
       "      <td>0</td>\n",
       "      <td>...</td>\n",
       "      <td>2</td>\n",
       "      <td>4</td>\n",
       "      <td>1</td>\n",
       "      <td>3</td>\n",
       "      <td>2</td>\n",
       "      <td>2</td>\n",
       "      <td>2</td>\n",
       "      <td>0</td>\n",
       "      <td>0.0</td>\n",
       "      <td>neutral or dissatisfied</td>\n",
       "    </tr>\n",
       "    <tr>\n",
       "      <th>3</th>\n",
       "      <td>3</td>\n",
       "      <td>77959</td>\n",
       "      <td>Male</td>\n",
       "      <td>Loyal Customer</td>\n",
       "      <td>44</td>\n",
       "      <td>Business travel</td>\n",
       "      <td>Business</td>\n",
       "      <td>3377</td>\n",
       "      <td>0</td>\n",
       "      <td>0</td>\n",
       "      <td>...</td>\n",
       "      <td>1</td>\n",
       "      <td>1</td>\n",
       "      <td>1</td>\n",
       "      <td>1</td>\n",
       "      <td>3</td>\n",
       "      <td>1</td>\n",
       "      <td>4</td>\n",
       "      <td>0</td>\n",
       "      <td>6.0</td>\n",
       "      <td>satisfied</td>\n",
       "    </tr>\n",
       "    <tr>\n",
       "      <th>4</th>\n",
       "      <td>4</td>\n",
       "      <td>36875</td>\n",
       "      <td>Female</td>\n",
       "      <td>Loyal Customer</td>\n",
       "      <td>49</td>\n",
       "      <td>Business travel</td>\n",
       "      <td>Eco</td>\n",
       "      <td>1182</td>\n",
       "      <td>2</td>\n",
       "      <td>3</td>\n",
       "      <td>...</td>\n",
       "      <td>2</td>\n",
       "      <td>2</td>\n",
       "      <td>2</td>\n",
       "      <td>2</td>\n",
       "      <td>4</td>\n",
       "      <td>2</td>\n",
       "      <td>4</td>\n",
       "      <td>0</td>\n",
       "      <td>20.0</td>\n",
       "      <td>satisfied</td>\n",
       "    </tr>\n",
       "  </tbody>\n",
       "</table>\n",
       "<p>5 rows × 25 columns</p>\n",
       "</div>"
      ],
      "text/plain": [
       "   Unnamed: 0     id  Gender      Customer Type  Age   Type of Travel  \\\n",
       "0           0  19556  Female     Loyal Customer   52  Business travel   \n",
       "1           1  90035  Female     Loyal Customer   36  Business travel   \n",
       "2           2  12360    Male  disloyal Customer   20  Business travel   \n",
       "3           3  77959    Male     Loyal Customer   44  Business travel   \n",
       "4           4  36875  Female     Loyal Customer   49  Business travel   \n",
       "\n",
       "      Class  Flight Distance  Inflight wifi service  \\\n",
       "0       Eco              160                      5   \n",
       "1  Business             2863                      1   \n",
       "2       Eco              192                      2   \n",
       "3  Business             3377                      0   \n",
       "4       Eco             1182                      2   \n",
       "\n",
       "   Departure/Arrival time convenient  ...  Inflight entertainment  \\\n",
       "0                                  4  ...                       5   \n",
       "1                                  1  ...                       4   \n",
       "2                                  0  ...                       2   \n",
       "3                                  0  ...                       1   \n",
       "4                                  3  ...                       2   \n",
       "\n",
       "   On-board service  Leg room service  Baggage handling  Checkin service  \\\n",
       "0                 5                 5                 5                2   \n",
       "1                 4                 4                 4                3   \n",
       "2                 4                 1                 3                2   \n",
       "3                 1                 1                 1                3   \n",
       "4                 2                 2                 2                4   \n",
       "\n",
       "   Inflight service  Cleanliness  Departure Delay in Minutes  \\\n",
       "0                 5            5                          50   \n",
       "1                 4            5                           0   \n",
       "2                 2            2                           0   \n",
       "3                 1            4                           0   \n",
       "4                 2            4                           0   \n",
       "\n",
       "   Arrival Delay in Minutes             satisfaction  \n",
       "0                      44.0                satisfied  \n",
       "1                       0.0                satisfied  \n",
       "2                       0.0  neutral or dissatisfied  \n",
       "3                       6.0                satisfied  \n",
       "4                      20.0                satisfied  \n",
       "\n",
       "[5 rows x 25 columns]"
      ]
     },
     "execution_count": 1,
     "metadata": {},
     "output_type": "execute_result"
    }
   ],
   "source": [
    "import pandas as pd\n",
    "import matplotlib.pyplot as plt\n",
    "import statsmodels.api as sm\n",
    "from sklearn.preprocessing import LabelEncoder\n",
    "from sklearn.model_selection import train_test_split\n",
    "import pathlib\n",
    "# create folder path\n",
    "folder_path = pathlib.Path('Alcohol_eda')\n",
    "# create empty dataframe\n",
    "dfs = []\n",
    "# create for loop to grab all files from folder_path\n",
    "for file in folder_path.glob('*csv'):\n",
    "    df = pd.read_csv(file)\n",
    "    dfs.append(df)\n",
    "combined_df = pd.concat(dfs, ignore_index=True)\n",
    "combined_df.head()\n"
   ]
  },
  {
   "cell_type": "code",
   "execution_count": 2,
   "metadata": {},
   "outputs": [
    {
     "data": {
      "text/html": [
       "<div>\n",
       "<style scoped>\n",
       "    .dataframe tbody tr th:only-of-type {\n",
       "        vertical-align: middle;\n",
       "    }\n",
       "\n",
       "    .dataframe tbody tr th {\n",
       "        vertical-align: top;\n",
       "    }\n",
       "\n",
       "    .dataframe thead th {\n",
       "        text-align: right;\n",
       "    }\n",
       "</style>\n",
       "<table border=\"1\" class=\"dataframe\">\n",
       "  <thead>\n",
       "    <tr style=\"text-align: right;\">\n",
       "      <th></th>\n",
       "      <th>id</th>\n",
       "      <th>Gender</th>\n",
       "      <th>Customer Type</th>\n",
       "      <th>Age</th>\n",
       "      <th>Type of Travel</th>\n",
       "      <th>Class</th>\n",
       "      <th>Flight Distance</th>\n",
       "      <th>Inflight wifi service</th>\n",
       "      <th>Departure/Arrival time convenient</th>\n",
       "      <th>Ease of Online booking</th>\n",
       "      <th>...</th>\n",
       "      <th>Inflight entertainment</th>\n",
       "      <th>On-board service</th>\n",
       "      <th>Leg room service</th>\n",
       "      <th>Baggage handling</th>\n",
       "      <th>Checkin service</th>\n",
       "      <th>Inflight service</th>\n",
       "      <th>Cleanliness</th>\n",
       "      <th>Departure Delay in Minutes</th>\n",
       "      <th>Arrival Delay in Minutes</th>\n",
       "      <th>satisfaction</th>\n",
       "    </tr>\n",
       "  </thead>\n",
       "  <tbody>\n",
       "    <tr>\n",
       "      <th>0</th>\n",
       "      <td>19556</td>\n",
       "      <td>Female</td>\n",
       "      <td>Loyal Customer</td>\n",
       "      <td>52</td>\n",
       "      <td>Business travel</td>\n",
       "      <td>Eco</td>\n",
       "      <td>160</td>\n",
       "      <td>5</td>\n",
       "      <td>4</td>\n",
       "      <td>3</td>\n",
       "      <td>...</td>\n",
       "      <td>5</td>\n",
       "      <td>5</td>\n",
       "      <td>5</td>\n",
       "      <td>5</td>\n",
       "      <td>2</td>\n",
       "      <td>5</td>\n",
       "      <td>5</td>\n",
       "      <td>50</td>\n",
       "      <td>44.0</td>\n",
       "      <td>satisfied</td>\n",
       "    </tr>\n",
       "    <tr>\n",
       "      <th>1</th>\n",
       "      <td>90035</td>\n",
       "      <td>Female</td>\n",
       "      <td>Loyal Customer</td>\n",
       "      <td>36</td>\n",
       "      <td>Business travel</td>\n",
       "      <td>Business</td>\n",
       "      <td>2863</td>\n",
       "      <td>1</td>\n",
       "      <td>1</td>\n",
       "      <td>3</td>\n",
       "      <td>...</td>\n",
       "      <td>4</td>\n",
       "      <td>4</td>\n",
       "      <td>4</td>\n",
       "      <td>4</td>\n",
       "      <td>3</td>\n",
       "      <td>4</td>\n",
       "      <td>5</td>\n",
       "      <td>0</td>\n",
       "      <td>0.0</td>\n",
       "      <td>satisfied</td>\n",
       "    </tr>\n",
       "    <tr>\n",
       "      <th>2</th>\n",
       "      <td>12360</td>\n",
       "      <td>Male</td>\n",
       "      <td>disloyal Customer</td>\n",
       "      <td>20</td>\n",
       "      <td>Business travel</td>\n",
       "      <td>Eco</td>\n",
       "      <td>192</td>\n",
       "      <td>2</td>\n",
       "      <td>0</td>\n",
       "      <td>2</td>\n",
       "      <td>...</td>\n",
       "      <td>2</td>\n",
       "      <td>4</td>\n",
       "      <td>1</td>\n",
       "      <td>3</td>\n",
       "      <td>2</td>\n",
       "      <td>2</td>\n",
       "      <td>2</td>\n",
       "      <td>0</td>\n",
       "      <td>0.0</td>\n",
       "      <td>neutral or dissatisfied</td>\n",
       "    </tr>\n",
       "    <tr>\n",
       "      <th>3</th>\n",
       "      <td>77959</td>\n",
       "      <td>Male</td>\n",
       "      <td>Loyal Customer</td>\n",
       "      <td>44</td>\n",
       "      <td>Business travel</td>\n",
       "      <td>Business</td>\n",
       "      <td>3377</td>\n",
       "      <td>0</td>\n",
       "      <td>0</td>\n",
       "      <td>0</td>\n",
       "      <td>...</td>\n",
       "      <td>1</td>\n",
       "      <td>1</td>\n",
       "      <td>1</td>\n",
       "      <td>1</td>\n",
       "      <td>3</td>\n",
       "      <td>1</td>\n",
       "      <td>4</td>\n",
       "      <td>0</td>\n",
       "      <td>6.0</td>\n",
       "      <td>satisfied</td>\n",
       "    </tr>\n",
       "    <tr>\n",
       "      <th>4</th>\n",
       "      <td>36875</td>\n",
       "      <td>Female</td>\n",
       "      <td>Loyal Customer</td>\n",
       "      <td>49</td>\n",
       "      <td>Business travel</td>\n",
       "      <td>Eco</td>\n",
       "      <td>1182</td>\n",
       "      <td>2</td>\n",
       "      <td>3</td>\n",
       "      <td>4</td>\n",
       "      <td>...</td>\n",
       "      <td>2</td>\n",
       "      <td>2</td>\n",
       "      <td>2</td>\n",
       "      <td>2</td>\n",
       "      <td>4</td>\n",
       "      <td>2</td>\n",
       "      <td>4</td>\n",
       "      <td>0</td>\n",
       "      <td>20.0</td>\n",
       "      <td>satisfied</td>\n",
       "    </tr>\n",
       "  </tbody>\n",
       "</table>\n",
       "<p>5 rows × 24 columns</p>\n",
       "</div>"
      ],
      "text/plain": [
       "      id  Gender      Customer Type  Age   Type of Travel     Class  \\\n",
       "0  19556  Female     Loyal Customer   52  Business travel       Eco   \n",
       "1  90035  Female     Loyal Customer   36  Business travel  Business   \n",
       "2  12360    Male  disloyal Customer   20  Business travel       Eco   \n",
       "3  77959    Male     Loyal Customer   44  Business travel  Business   \n",
       "4  36875  Female     Loyal Customer   49  Business travel       Eco   \n",
       "\n",
       "   Flight Distance  Inflight wifi service  Departure/Arrival time convenient  \\\n",
       "0              160                      5                                  4   \n",
       "1             2863                      1                                  1   \n",
       "2              192                      2                                  0   \n",
       "3             3377                      0                                  0   \n",
       "4             1182                      2                                  3   \n",
       "\n",
       "   Ease of Online booking  ...  Inflight entertainment  On-board service  \\\n",
       "0                       3  ...                       5                 5   \n",
       "1                       3  ...                       4                 4   \n",
       "2                       2  ...                       2                 4   \n",
       "3                       0  ...                       1                 1   \n",
       "4                       4  ...                       2                 2   \n",
       "\n",
       "   Leg room service  Baggage handling  Checkin service  Inflight service  \\\n",
       "0                 5                 5                2                 5   \n",
       "1                 4                 4                3                 4   \n",
       "2                 1                 3                2                 2   \n",
       "3                 1                 1                3                 1   \n",
       "4                 2                 2                4                 2   \n",
       "\n",
       "   Cleanliness  Departure Delay in Minutes  Arrival Delay in Minutes  \\\n",
       "0            5                          50                      44.0   \n",
       "1            5                           0                       0.0   \n",
       "2            2                           0                       0.0   \n",
       "3            4                           0                       6.0   \n",
       "4            4                           0                      20.0   \n",
       "\n",
       "              satisfaction  \n",
       "0                satisfied  \n",
       "1                satisfied  \n",
       "2  neutral or dissatisfied  \n",
       "3                satisfied  \n",
       "4                satisfied  \n",
       "\n",
       "[5 rows x 24 columns]"
      ]
     },
     "execution_count": 2,
     "metadata": {},
     "output_type": "execute_result"
    }
   ],
   "source": [
    "combined_df.set_index('id')\n",
    "df_cols = ['id', 'Gender', 'Customer Type', 'Age', 'Type of Travel',\n",
    "       'Class', 'Flight Distance', 'Inflight wifi service',\n",
    "       'Departure/Arrival time convenient', 'Ease of Online booking',\n",
    "       'Gate location', 'Food and drink', 'Online boarding', 'Seat comfort',\n",
    "       'Inflight entertainment', 'On-board service', 'Leg room service',\n",
    "       'Baggage handling', 'Checkin service', 'Inflight service',\n",
    "       'Cleanliness', 'Departure Delay in Minutes', 'Arrival Delay in Minutes',\n",
    "       'satisfaction']\n",
    "alcohol_df = combined_df[df_cols]\n",
    "alcohol_df.head()"
   ]
  },
  {
   "cell_type": "code",
   "execution_count": 3,
   "metadata": {},
   "outputs": [
    {
     "data": {
      "text/plain": [
       "Unnamed: 0                             0\n",
       "id                                     0\n",
       "Gender                                 0\n",
       "Customer Type                          0\n",
       "Age                                    0\n",
       "Type of Travel                         0\n",
       "Class                                  0\n",
       "Flight Distance                        0\n",
       "Inflight wifi service                  0\n",
       "Departure/Arrival time convenient      0\n",
       "Ease of Online booking                 0\n",
       "Gate location                          0\n",
       "Food and drink                         0\n",
       "Online boarding                        0\n",
       "Seat comfort                           0\n",
       "Inflight entertainment                 0\n",
       "On-board service                       0\n",
       "Leg room service                       0\n",
       "Baggage handling                       0\n",
       "Checkin service                        0\n",
       "Inflight service                       0\n",
       "Cleanliness                            0\n",
       "Departure Delay in Minutes             0\n",
       "Arrival Delay in Minutes             393\n",
       "satisfaction                           0\n",
       "dtype: int64"
      ]
     },
     "execution_count": 3,
     "metadata": {},
     "output_type": "execute_result"
    }
   ],
   "source": [
    "combined_df.isna().sum()"
   ]
  },
  {
   "cell_type": "code",
   "execution_count": 4,
   "metadata": {},
   "outputs": [],
   "source": [
    "combined_df = combined_df.dropna()"
   ]
  },
  {
   "cell_type": "code",
   "execution_count": 5,
   "metadata": {},
   "outputs": [
    {
     "data": {
      "text/plain": [
       "Unnamed: 0                           0\n",
       "id                                   0\n",
       "Gender                               0\n",
       "Customer Type                        0\n",
       "Age                                  0\n",
       "Type of Travel                       0\n",
       "Class                                0\n",
       "Flight Distance                      0\n",
       "Inflight wifi service                0\n",
       "Departure/Arrival time convenient    0\n",
       "Ease of Online booking               0\n",
       "Gate location                        0\n",
       "Food and drink                       0\n",
       "Online boarding                      0\n",
       "Seat comfort                         0\n",
       "Inflight entertainment               0\n",
       "On-board service                     0\n",
       "Leg room service                     0\n",
       "Baggage handling                     0\n",
       "Checkin service                      0\n",
       "Inflight service                     0\n",
       "Cleanliness                          0\n",
       "Departure Delay in Minutes           0\n",
       "Arrival Delay in Minutes             0\n",
       "satisfaction                         0\n",
       "dtype: int64"
      ]
     },
     "execution_count": 5,
     "metadata": {},
     "output_type": "execute_result"
    }
   ],
   "source": [
    "combined_df.isnull().sum()"
   ]
  },
  {
   "cell_type": "code",
   "execution_count": 6,
   "metadata": {},
   "outputs": [
    {
     "data": {
      "text/plain": [
       "array(['satisfied', 'neutral or dissatisfied'], dtype=object)"
      ]
     },
     "execution_count": 6,
     "metadata": {},
     "output_type": "execute_result"
    }
   ],
   "source": [
    "combined_df['satisfaction'].unique()"
   ]
  },
  {
   "cell_type": "code",
   "execution_count": 7,
   "metadata": {},
   "outputs": [
    {
     "name": "stdout",
     "output_type": "stream",
     "text": [
      "<class 'pandas.core.frame.DataFrame'>\n",
      "Index: 129487 entries, 0 to 129879\n",
      "Data columns (total 25 columns):\n",
      " #   Column                             Non-Null Count   Dtype  \n",
      "---  ------                             --------------   -----  \n",
      " 0   Unnamed: 0                         129487 non-null  int64  \n",
      " 1   id                                 129487 non-null  int64  \n",
      " 2   Gender                             129487 non-null  object \n",
      " 3   Customer Type                      129487 non-null  object \n",
      " 4   Age                                129487 non-null  int64  \n",
      " 5   Type of Travel                     129487 non-null  object \n",
      " 6   Class                              129487 non-null  object \n",
      " 7   Flight Distance                    129487 non-null  int64  \n",
      " 8   Inflight wifi service              129487 non-null  int64  \n",
      " 9   Departure/Arrival time convenient  129487 non-null  int64  \n",
      " 10  Ease of Online booking             129487 non-null  int64  \n",
      " 11  Gate location                      129487 non-null  int64  \n",
      " 12  Food and drink                     129487 non-null  int64  \n",
      " 13  Online boarding                    129487 non-null  int64  \n",
      " 14  Seat comfort                       129487 non-null  int64  \n",
      " 15  Inflight entertainment             129487 non-null  int64  \n",
      " 16  On-board service                   129487 non-null  int64  \n",
      " 17  Leg room service                   129487 non-null  int64  \n",
      " 18  Baggage handling                   129487 non-null  int64  \n",
      " 19  Checkin service                    129487 non-null  int64  \n",
      " 20  Inflight service                   129487 non-null  int64  \n",
      " 21  Cleanliness                        129487 non-null  int64  \n",
      " 22  Departure Delay in Minutes         129487 non-null  int64  \n",
      " 23  Arrival Delay in Minutes           129487 non-null  float64\n",
      " 24  satisfaction                       129487 non-null  object \n",
      "dtypes: float64(1), int64(19), object(5)\n",
      "memory usage: 25.7+ MB\n"
     ]
    }
   ],
   "source": [
    "# identify the various dtypes of the data\n",
    "combined_df.info()"
   ]
  },
  {
   "cell_type": "markdown",
   "metadata": {},
   "source": [
    "### GROUPING GENDERS ACCORDING FLIGHT CLASSES TO DETERMINE WHICH GENDER USED EACH OF THESE FLIGHT CLASSES THE MOST!!"
   ]
  },
  {
   "cell_type": "code",
   "execution_count": 8,
   "metadata": {},
   "outputs": [
    {
     "data": {
      "text/html": [
       "<div>\n",
       "<style scoped>\n",
       "    .dataframe tbody tr th:only-of-type {\n",
       "        vertical-align: middle;\n",
       "    }\n",
       "\n",
       "    .dataframe tbody tr th {\n",
       "        vertical-align: top;\n",
       "    }\n",
       "\n",
       "    .dataframe thead th {\n",
       "        text-align: right;\n",
       "    }\n",
       "</style>\n",
       "<table border=\"1\" class=\"dataframe\">\n",
       "  <thead>\n",
       "    <tr style=\"text-align: right;\">\n",
       "      <th></th>\n",
       "      <th></th>\n",
       "      <th>proportion</th>\n",
       "    </tr>\n",
       "    <tr>\n",
       "      <th>Gender</th>\n",
       "      <th>Class</th>\n",
       "      <th></th>\n",
       "    </tr>\n",
       "  </thead>\n",
       "  <tbody>\n",
       "    <tr>\n",
       "      <th>Male</th>\n",
       "      <th>Business</th>\n",
       "      <td>48.305218</td>\n",
       "    </tr>\n",
       "    <tr>\n",
       "      <th rowspan=\"2\" valign=\"top\">Female</th>\n",
       "      <th>Business</th>\n",
       "      <td>47.454454</td>\n",
       "    </tr>\n",
       "    <tr>\n",
       "      <th>Eco</th>\n",
       "      <td>45.007077</td>\n",
       "    </tr>\n",
       "    <tr>\n",
       "      <th>Male</th>\n",
       "      <th>Eco</th>\n",
       "      <td>44.754170</td>\n",
       "    </tr>\n",
       "    <tr>\n",
       "      <th>Female</th>\n",
       "      <th>Eco Plus</th>\n",
       "      <td>7.538469</td>\n",
       "    </tr>\n",
       "    <tr>\n",
       "      <th>Male</th>\n",
       "      <th>Eco Plus</th>\n",
       "      <td>6.940612</td>\n",
       "    </tr>\n",
       "  </tbody>\n",
       "</table>\n",
       "</div>"
      ],
      "text/plain": [
       "                 proportion\n",
       "Gender Class               \n",
       "Male   Business   48.305218\n",
       "Female Business   47.454454\n",
       "       Eco        45.007077\n",
       "Male   Eco        44.754170\n",
       "Female Eco Plus    7.538469\n",
       "Male   Eco Plus    6.940612"
      ]
     },
     "execution_count": 8,
     "metadata": {},
     "output_type": "execute_result"
    }
   ],
   "source": [
    "df1 = combined_df.groupby('Gender')['Class'].value_counts(normalize=True).sort_values(ascending=False) * 100\n",
    "df1.to_frame()\n"
   ]
  },
  {
   "cell_type": "code",
   "execution_count": null,
   "metadata": {},
   "outputs": [],
   "source": []
  },
  {
   "cell_type": "code",
   "execution_count": 9,
   "metadata": {},
   "outputs": [
    {
     "data": {
      "text/plain": [
       "<Axes: xlabel='Gender,Class'>"
      ]
     },
     "execution_count": 9,
     "metadata": {},
     "output_type": "execute_result"
    },
    {
     "data": {
      "image/png": "[encoded data removed]",
      "text/plain": [
       "<Figure size 640x480 with 1 Axes>"
      ]
     },
     "metadata": {},
     "output_type": "display_data"
    }
   ],
   "source": [
    "df1.plot(kind='bar')"
   ]
  },
  {
   "cell_type": "code",
   "execution_count": 10,
   "metadata": {},
   "outputs": [
    {
     "data": {
      "text/plain": [
       "0         Females\n",
       "1         Females\n",
       "2           Males\n",
       "3           Males\n",
       "4         Females\n",
       "           ...   \n",
       "129875    Females\n",
       "129876      Males\n",
       "129877      Males\n",
       "129878    Females\n",
       "129879      Males\n",
       "Name: gender_cats, Length: 129487, dtype: object"
      ]
     },
     "execution_count": 10,
     "metadata": {},
     "output_type": "execute_result"
    }
   ],
   "source": [
    "# creating a new columns where the dataframe is group base on gender\n",
    "combined_df['gender_cats'] = None\n",
    "combined_df.loc[combined_df['Gender'] == 'Male', 'gender_cats'] = 'Males'\n",
    "combined_df.loc[combined_df['Gender'] == 'Female', 'gender_cats'] = 'Females'\n",
    "combined_df.gender_cats"
   ]
  },
  {
   "cell_type": "code",
   "execution_count": 11,
   "metadata": {},
   "outputs": [
    {
     "data": {
      "text/html": [
       "<div>\n",
       "<style scoped>\n",
       "    .dataframe tbody tr th:only-of-type {\n",
       "        vertical-align: middle;\n",
       "    }\n",
       "\n",
       "    .dataframe tbody tr th {\n",
       "        vertical-align: top;\n",
       "    }\n",
       "\n",
       "    .dataframe thead th {\n",
       "        text-align: right;\n",
       "    }\n",
       "</style>\n",
       "<table border=\"1\" class=\"dataframe\">\n",
       "  <thead>\n",
       "    <tr style=\"text-align: right;\">\n",
       "      <th>Class</th>\n",
       "      <th>Business</th>\n",
       "      <th>Eco</th>\n",
       "      <th>Eco Plus</th>\n",
       "    </tr>\n",
       "    <tr>\n",
       "      <th>gender_cats</th>\n",
       "      <th></th>\n",
       "      <th></th>\n",
       "      <th></th>\n",
       "    </tr>\n",
       "  </thead>\n",
       "  <tbody>\n",
       "    <tr>\n",
       "      <th>Females</th>\n",
       "      <td>47.454454</td>\n",
       "      <td>45.007077</td>\n",
       "      <td>7.538469</td>\n",
       "    </tr>\n",
       "    <tr>\n",
       "      <th>Males</th>\n",
       "      <td>48.305218</td>\n",
       "      <td>44.754170</td>\n",
       "      <td>6.940612</td>\n",
       "    </tr>\n",
       "  </tbody>\n",
       "</table>\n",
       "</div>"
      ],
      "text/plain": [
       "Class         Business        Eco  Eco Plus\n",
       "gender_cats                                \n",
       "Females      47.454454  45.007077  7.538469\n",
       "Males        48.305218  44.754170  6.940612"
      ]
     },
     "execution_count": 11,
     "metadata": {},
     "output_type": "execute_result"
    }
   ],
   "source": [
    "\n",
    "df2 = combined_df.groupby('gender_cats')['Class'].value_counts(normalize=True).unstack() * 100\n",
    "df2"
   ]
  },
  {
   "cell_type": "code",
   "execution_count": 12,
   "metadata": {},
   "outputs": [
    {
     "data": {
      "text/html": [
       "<style type=\"text/css\">\n",
       "#T_c6465_row0_col0, #T_c6465_row1_col1, #T_c6465_row1_col2 {\n",
       "  background-color: #f7fcf5;\n",
       "  color: #000000;\n",
       "}\n",
       "#T_c6465_row0_col1, #T_c6465_row0_col2, #T_c6465_row1_col0 {\n",
       "  background-color: #00441b;\n",
       "  color: #f1f1f1;\n",
       "}\n",
       "</style>\n",
       "<table id=\"T_c6465\">\n",
       "  <thead>\n",
       "    <tr>\n",
       "      <th class=\"index_name level0\" >Class</th>\n",
       "      <th id=\"T_c6465_level0_col0\" class=\"col_heading level0 col0\" >Business</th>\n",
       "      <th id=\"T_c6465_level0_col1\" class=\"col_heading level0 col1\" >Eco</th>\n",
       "      <th id=\"T_c6465_level0_col2\" class=\"col_heading level0 col2\" >Eco Plus</th>\n",
       "    </tr>\n",
       "    <tr>\n",
       "      <th class=\"index_name level0\" >gender_cats</th>\n",
       "      <th class=\"blank col0\" >&nbsp;</th>\n",
       "      <th class=\"blank col1\" >&nbsp;</th>\n",
       "      <th class=\"blank col2\" >&nbsp;</th>\n",
       "    </tr>\n",
       "  </thead>\n",
       "  <tbody>\n",
       "    <tr>\n",
       "      <th id=\"T_c6465_level0_row0\" class=\"row_heading level0 row0\" >Females</th>\n",
       "      <td id=\"T_c6465_row0_col0\" class=\"data row0 col0\" >47.454454</td>\n",
       "      <td id=\"T_c6465_row0_col1\" class=\"data row0 col1\" >45.007077</td>\n",
       "      <td id=\"T_c6465_row0_col2\" class=\"data row0 col2\" >7.538469</td>\n",
       "    </tr>\n",
       "    <tr>\n",
       "      <th id=\"T_c6465_level0_row1\" class=\"row_heading level0 row1\" >Males</th>\n",
       "      <td id=\"T_c6465_row1_col0\" class=\"data row1 col0\" >48.305218</td>\n",
       "      <td id=\"T_c6465_row1_col1\" class=\"data row1 col1\" >44.754170</td>\n",
       "      <td id=\"T_c6465_row1_col2\" class=\"data row1 col2\" >6.940612</td>\n",
       "    </tr>\n",
       "  </tbody>\n",
       "</table>\n"
      ],
      "text/plain": [
       "<pandas.io.formats.style.Styler at 0x1319b9d90>"
      ]
     },
     "execution_count": 12,
     "metadata": {},
     "output_type": "execute_result"
    }
   ],
   "source": [
    "df2.style.background_gradient(cmap='Greens')"
   ]
  },
  {
   "cell_type": "markdown",
   "metadata": {},
   "source": [
    "#### Result above shows that Buisiness class has more male booking with up to 48% more than females. Eco class has more bookings by females with up to 45% when compared to males. Finally Eco plus has more Female bookings compared to male bookings."
   ]
  },
  {
   "cell_type": "markdown",
   "metadata": {},
   "source": [
    "#### WHICH GENDER ARE MOST SATISFIED WITH THE INFLIGHT ENTERTAINMENT?"
   ]
  },
  {
   "cell_type": "code",
   "execution_count": 13,
   "metadata": {},
   "outputs": [
    {
     "data": {
      "text/html": [
       "<style type=\"text/css\">\n",
       "#T_78913_row0_col0, #T_78913_row0_col4, #T_78913_row0_col5, #T_78913_row1_col1, #T_78913_row1_col2, #T_78913_row1_col3 {\n",
       "  background-color: #f7fcf5;\n",
       "  color: #000000;\n",
       "}\n",
       "#T_78913_row0_col1, #T_78913_row0_col2, #T_78913_row0_col3, #T_78913_row1_col0, #T_78913_row1_col4, #T_78913_row1_col5 {\n",
       "  background-color: #00441b;\n",
       "  color: #f1f1f1;\n",
       "}\n",
       "</style>\n",
       "<table id=\"T_78913\">\n",
       "  <thead>\n",
       "    <tr>\n",
       "      <th class=\"index_name level0\" >Inflight entertainment</th>\n",
       "      <th id=\"T_78913_level0_col0\" class=\"col_heading level0 col0\" >0</th>\n",
       "      <th id=\"T_78913_level0_col1\" class=\"col_heading level0 col1\" >1</th>\n",
       "      <th id=\"T_78913_level0_col2\" class=\"col_heading level0 col2\" >2</th>\n",
       "      <th id=\"T_78913_level0_col3\" class=\"col_heading level0 col3\" >3</th>\n",
       "      <th id=\"T_78913_level0_col4\" class=\"col_heading level0 col4\" >4</th>\n",
       "      <th id=\"T_78913_level0_col5\" class=\"col_heading level0 col5\" >5</th>\n",
       "    </tr>\n",
       "    <tr>\n",
       "      <th class=\"index_name level0\" >gender_cats</th>\n",
       "      <th class=\"blank col0\" >&nbsp;</th>\n",
       "      <th class=\"blank col1\" >&nbsp;</th>\n",
       "      <th class=\"blank col2\" >&nbsp;</th>\n",
       "      <th class=\"blank col3\" >&nbsp;</th>\n",
       "      <th class=\"blank col4\" >&nbsp;</th>\n",
       "      <th class=\"blank col5\" >&nbsp;</th>\n",
       "    </tr>\n",
       "  </thead>\n",
       "  <tbody>\n",
       "    <tr>\n",
       "      <th id=\"T_78913_level0_row0\" class=\"row_heading level0 row0\" >Females</th>\n",
       "      <td id=\"T_78913_row0_col0\" class=\"data row0 col0\" >0.013698</td>\n",
       "      <td id=\"T_78913_row0_col1\" class=\"data row0 col1\" >12.133388</td>\n",
       "      <td id=\"T_78913_row0_col2\" class=\"data row0 col2\" >17.023576</td>\n",
       "      <td id=\"T_78913_row0_col3\" class=\"data row0 col3\" >18.458822</td>\n",
       "      <td id=\"T_78913_row0_col4\" class=\"data row0 col4\" >28.102218</td>\n",
       "      <td id=\"T_78913_row0_col5\" class=\"data row0 col5\" >24.268298</td>\n",
       "    </tr>\n",
       "    <tr>\n",
       "      <th id=\"T_78913_level0_row1\" class=\"row_heading level0 row1\" >Males</th>\n",
       "      <td id=\"T_78913_row1_col0\" class=\"data row1 col0\" >0.014110</td>\n",
       "      <td id=\"T_78913_row1_col1\" class=\"data row1 col1\" >12.012417</td>\n",
       "      <td id=\"T_78913_row1_col2\" class=\"data row1 col2\" >16.794180</td>\n",
       "      <td id=\"T_78913_row1_col3\" class=\"data row1 col3\" >18.307099</td>\n",
       "      <td id=\"T_78913_row1_col4\" class=\"data row1 col4\" >28.562022</td>\n",
       "      <td id=\"T_78913_row1_col5\" class=\"data row1 col5\" >24.310172</td>\n",
       "    </tr>\n",
       "  </tbody>\n",
       "</table>\n"
      ],
      "text/plain": [
       "<pandas.io.formats.style.Styler at 0x1319b9390>"
      ]
     },
     "execution_count": 13,
     "metadata": {},
     "output_type": "execute_result"
    }
   ],
   "source": [
    "df3 = combined_df.groupby('gender_cats')['Inflight entertainment'].value_counts(normalize=True).unstack() * 100\n",
    "df3.style.background_gradient(cmap='Greens')"
   ]
  },
  {
   "cell_type": "markdown",
   "metadata": {},
   "source": [
    "#### where 0 to 5 represents the various level of satisfaction from lowest to highest\n",
    "#### The result shows that Males enjoyed the inflight entertainment the most."
   ]
  },
  {
   "cell_type": "markdown",
   "metadata": {},
   "source": [
    "#### WHICH AGE BRACKET BOARDS FLIGHT THE MOST??"
   ]
  },
  {
   "cell_type": "code",
   "execution_count": 14,
   "metadata": {},
   "outputs": [],
   "source": [
    "combined_df['age_cats'] = None\n",
    "combined_df.loc[(combined_df['Age'] >1) & (combined_df['Age'] <=18), 'age_cats'] = 'Children'\n",
    "combined_df.loc[(combined_df['Age'] >19) & (combined_df['Age'] <=60), 'age_cats'] = 'Adults'\n",
    "combined_df.loc[(combined_df['Age'] >61) & (combined_df['Age'] <=150), 'age_cats'] = 'Old people'\n"
   ]
  },
  {
   "cell_type": "code",
   "execution_count": 15,
   "metadata": {},
   "outputs": [
    {
     "data": {
      "text/plain": [
       "<Axes: xlabel='age_cats'>"
      ]
     },
     "execution_count": 15,
     "metadata": {},
     "output_type": "execute_result"
    },
    {
     "data": {
      "image/png": "[encoded data removed]",
      "text/plain": [
       "<Figure size 640x480 with 1 Axes>"
      ]
     },
     "metadata": {},
     "output_type": "display_data"
    }
   ],
   "source": [
    "df5 = combined_df['age_cats'].value_counts(normalize=True) * 100\n",
    "df5.plot(kind='line')"
   ]
  },
  {
   "cell_type": "markdown",
   "metadata": {},
   "source": [
    "#### The plot above shows that Adults(persons between the age of 18 and 60) Board more flights than kids and old people"
   ]
  },
  {
   "cell_type": "code",
   "execution_count": 16,
   "metadata": {},
   "outputs": [
    {
     "data": {
      "text/html": [
       "<style type=\"text/css\">\n",
       "#T_2fba1_row0_col0, #T_2fba1_row1_col1 {\n",
       "  background-color: #00441b;\n",
       "  color: #f1f1f1;\n",
       "}\n",
       "#T_2fba1_row0_col1, #T_2fba1_row1_col0 {\n",
       "  background-color: #f7fcf5;\n",
       "  color: #000000;\n",
       "}\n",
       "</style>\n",
       "<table id=\"T_2fba1\">\n",
       "  <thead>\n",
       "    <tr>\n",
       "      <th class=\"index_name level0\" >Type of Travel</th>\n",
       "      <th id=\"T_2fba1_level0_col0\" class=\"col_heading level0 col0\" >Business travel</th>\n",
       "      <th id=\"T_2fba1_level0_col1\" class=\"col_heading level0 col1\" >Personal Travel</th>\n",
       "    </tr>\n",
       "    <tr>\n",
       "      <th class=\"index_name level0\" >gender_cats</th>\n",
       "      <th class=\"blank col0\" >&nbsp;</th>\n",
       "      <th class=\"blank col1\" >&nbsp;</th>\n",
       "    </tr>\n",
       "  </thead>\n",
       "  <tbody>\n",
       "    <tr>\n",
       "      <th id=\"T_2fba1_level0_row0\" class=\"row_heading level0 row0\" >Females</th>\n",
       "      <td id=\"T_2fba1_row0_col0\" class=\"data row0 col0\" >69.496066</td>\n",
       "      <td id=\"T_2fba1_row0_col1\" class=\"data row0 col1\" >30.503934</td>\n",
       "    </tr>\n",
       "    <tr>\n",
       "      <th id=\"T_2fba1_level0_row1\" class=\"row_heading level0 row1\" >Males</th>\n",
       "      <td id=\"T_2fba1_row1_col0\" class=\"data row1 col0\" >68.644174</td>\n",
       "      <td id=\"T_2fba1_row1_col1\" class=\"data row1 col1\" >31.355826</td>\n",
       "    </tr>\n",
       "  </tbody>\n",
       "</table>\n"
      ],
      "text/plain": [
       "<pandas.io.formats.style.Styler at 0x136ecc050>"
      ]
     },
     "execution_count": 16,
     "metadata": {},
     "output_type": "execute_result"
    }
   ],
   "source": [
    "df5 = combined_df.groupby('gender_cats')['Type of Travel'].value_counts(normalize=True).unstack() * 100\n",
    "df5.style.background_gradient(cmap='Greens')"
   ]
  },
  {
   "cell_type": "markdown",
   "metadata": {},
   "source": [
    "#### Results shows that Females make more business travels that Males with Females Business travels reaching up to 69% as compared to that of men which is 68%\n",
    "#### Furthermore, Males made more travels more than Females with up to 31% rate more than Females."
   ]
  },
  {
   "cell_type": "markdown",
   "metadata": {},
   "source": [
    "#### What Factors determine satisfaction levels of customers?"
   ]
  },
  {
   "cell_type": "code",
   "execution_count": 17,
   "metadata": {},
   "outputs": [
    {
     "name": "stdout",
     "output_type": "stream",
     "text": [
      "                                 OLS Regression Results                                \n",
      "=======================================================================================\n",
      "Dep. Variable:           satisfaction   R-squared (uncentered):                   0.506\n",
      "Model:                            OLS   Adj. R-squared (uncentered):              0.506\n",
      "Method:                 Least Squares   F-statistic:                          1.325e+04\n",
      "Date:                Thu, 07 Nov 2024   Prob (F-statistic):                        0.00\n",
      "Time:                        11:21:10   Log-Likelihood:                         -25146.\n",
      "No. Observations:               38846   AIC:                                  5.030e+04\n",
      "Df Residuals:                   38843   BIC:                                  5.032e+04\n",
      "Df Model:                           3                                                  \n",
      "Covariance Type:            nonrobust                                                  \n",
      "==============================================================================\n",
      "                 coef    std err          t      P>|t|      [0.025      0.975]\n",
      "------------------------------------------------------------------------------\n",
      "x1             0.0485      0.001     35.060      0.000       0.046       0.051\n",
      "x2             0.0891      0.001     67.239      0.000       0.086       0.092\n",
      "x3            -0.0007    6.1e-05    -11.153      0.000      -0.001      -0.001\n",
      "==============================================================================\n",
      "Omnibus:                   178652.949   Durbin-Watson:                   1.994\n",
      "Prob(Omnibus):                  0.000   Jarque-Bera (JB):             4683.694\n",
      "Skew:                           0.213   Prob(JB):                         0.00\n",
      "Kurtosis:                       1.353   Cond. No.                         32.1\n",
      "==============================================================================\n",
      "\n",
      "Notes:\n",
      "[1] R² is computed without centering (uncentered) since the model does not contain a constant.\n",
      "[2] Standard Errors assume that the covariance matrix of the errors is correctly specified.\n"
     ]
    },
    {
     "data": {
      "image/png": "[encoded data removed]",
      "text/plain": [
       "<Figure size 800x600 with 3 Axes>"
      ]
     },
     "metadata": {},
     "output_type": "display_data"
    }
   ],
   "source": [
    "le = LabelEncoder()\n",
    "combined_df['satisfaction'] = le.fit_transform(combined_df['satisfaction'])\n",
    "X = combined_df[['Food and drink','On-board service','Departure Delay in Minutes']].values\n",
    "y = combined_df['satisfaction']\n",
    "#train the model\n",
    "X_train, X_test, y_train, y_test = train_test_split(X,y, test_size=.70,  random_state=1)\n",
    "X = sm.add_constant(X_train)\n",
    "model = sm.OLS(y_train,X_train).fit()\n",
    "print(model.summary())\n",
    "y_pred = model.predict(X_test)\n",
    "\n",
    "fig = plt.figure(figsize=(8,6))\n",
    "fig = sm.graphics.plot_partregress_grid(model, fig=fig)"
   ]
  },
  {
   "cell_type": "markdown",
   "metadata": {},
   "source": [
    "### Results are as follows;\n",
    "#### 1. Dublin watson result shows that there is no multicolinearity among independent variables.\n",
    "#### 2.R_squared shows that the model explains the relationship between the dependent variable 'Satisfaction and the independent variables 'Food and drink, On-board service, Departure Delay in Minutes'efficiently.\n",
    "### 2. The coefficients;\n",
    "#### a. For every unit of Delay in Departure time in Minutes(x3), Satisfaction(y) is decreased or reduced by 0.0007.\n",
    "#### b.For every unit of on-board services rendered(x2), Satisfaction(y) is increased by 0.0898.\n",
    "### Hypothesis Testing\n",
    "#### H0: Delay time in minutes has no effect on satisfaction level\n",
    "#### H1: Delay time in minutes affects satisfaction level.\n",
    "#### ( where p-value is < 0.05 reject H0, and accept H1, where p-value is > 0.05 accept H0 and reject H1)\n",
    "#### P-value of Departure Delay in minutes which is 0.000 is less than 0.05 so therefore we accept H1 which states that Delay time in minutes affects satisfaction level of customers."
   ]
  },
  {
   "cell_type": "code",
   "execution_count": 18,
   "metadata": {},
   "outputs": [
    {
     "data": {
      "text/html": [
       "<style type=\"text/css\">\n",
       "#T_7991d_row0_col0, #T_7991d_row0_col1 {\n",
       "  background-color: #fff5f0;\n",
       "  color: #000000;\n",
       "}\n",
       "#T_7991d_row1_col0 {\n",
       "  background-color: #fcaa8d;\n",
       "  color: #000000;\n",
       "}\n",
       "#T_7991d_row1_col1 {\n",
       "  background-color: #fcae92;\n",
       "  color: #000000;\n",
       "}\n",
       "#T_7991d_row2_col0, #T_7991d_row2_col1 {\n",
       "  background-color: #67000d;\n",
       "  color: #f1f1f1;\n",
       "}\n",
       "</style>\n",
       "<table id=\"T_7991d\">\n",
       "  <thead>\n",
       "    <tr>\n",
       "      <th class=\"index_name level0\" >satisfaction</th>\n",
       "      <th id=\"T_7991d_level0_col0\" class=\"col_heading level0 col0\" >0</th>\n",
       "      <th id=\"T_7991d_level0_col1\" class=\"col_heading level0 col1\" >1</th>\n",
       "    </tr>\n",
       "    <tr>\n",
       "      <th class=\"index_name level0\" >dep_cats</th>\n",
       "      <th class=\"blank col0\" >&nbsp;</th>\n",
       "      <th class=\"blank col1\" >&nbsp;</th>\n",
       "    </tr>\n",
       "  </thead>\n",
       "  <tbody>\n",
       "    <tr>\n",
       "      <th id=\"T_7991d_level0_row0\" class=\"row_heading level0 row0\" >Excess delay</th>\n",
       "      <td id=\"T_7991d_row0_col0\" class=\"data row0 col0\" >11147</td>\n",
       "      <td id=\"T_7991d_row0_col1\" class=\"data row0 col1\" >6300</td>\n",
       "    </tr>\n",
       "    <tr>\n",
       "      <th id=\"T_7991d_level0_row1\" class=\"row_heading level0 row1\" >Less delay</th>\n",
       "      <td id=\"T_7991d_row1_col0\" class=\"data row1 col0\" >19788</td>\n",
       "      <td id=\"T_7991d_row1_col1\" class=\"data row1 col1\" >14307</td>\n",
       "    </tr>\n",
       "    <tr>\n",
       "      <th id=\"T_7991d_level0_row2\" class=\"row_heading level0 row2\" >No delay</th>\n",
       "      <td id=\"T_7991d_row2_col0\" class=\"data row2 col0\" >39569</td>\n",
       "      <td id=\"T_7991d_row2_col1\" class=\"data row2 col1\" >33640</td>\n",
       "    </tr>\n",
       "  </tbody>\n",
       "</table>\n"
      ],
      "text/plain": [
       "<pandas.io.formats.style.Styler at 0x137210110>"
      ]
     },
     "execution_count": 18,
     "metadata": {},
     "output_type": "execute_result"
    }
   ],
   "source": [
    "# where neutral or dissatisfied is 0 and satisfied is 1\n",
    "combined_df['dep_cats'] = None\n",
    "combined_df.loc[(combined_df['Departure Delay in Minutes'] == 0), 'dep_cats'] = 'No delay'\n",
    "combined_df.loc[(combined_df['Departure Delay in Minutes'] >1) & (combined_df['Departure Delay in Minutes'] <30), 'dep_cats'] = 'Less delay'\n",
    "combined_df.loc[(combined_df['Departure Delay in Minutes'] >31) & (combined_df['Departure Delay in Minutes'] <10000), 'dep_cats'] = 'Excess delay'\n",
    "df6 = combined_df.groupby('dep_cats')['satisfaction'].value_counts().unstack()\n",
    "df6.style.background_gradient(cmap='Reds')"
   ]
  },
  {
   "cell_type": "markdown",
   "metadata": {},
   "source": [
    "#### Results show that customers with the highest level of neutral or unsatisfied and satisfied are customers whose flights where not delayed. "
   ]
  },
  {
   "cell_type": "markdown",
   "metadata": {},
   "source": [
    "### How is Satisfaction affeted by gender using a logistic regression"
   ]
  },
  {
   "cell_type": "code",
   "execution_count": 19,
   "metadata": {},
   "outputs": [
    {
     "name": "stdout",
     "output_type": "stream",
     "text": [
      "Optimization terminated successfully.\n",
      "         Current function value: 0.689861\n",
      "         Iterations 4\n",
      "                           Logit Regression Results                           \n",
      "==============================================================================\n",
      "Dep. Variable:           satisfaction   No. Observations:                25897\n",
      "Model:                          Logit   Df Residuals:                    25896\n",
      "Method:                           MLE   Df Model:                            0\n",
      "Date:                Thu, 07 Nov 2024   Pseudo R-squ.:               -0.008411\n",
      "Time:                        11:21:11   Log-Likelihood:                -17865.\n",
      "converged:                       True   LL-Null:                       -17716.\n",
      "Covariance Type:            nonrobust   LLR p-value:                       nan\n",
      "==============================================================================\n",
      "                 coef    std err          z      P>|z|      [0.025      0.975]\n",
      "------------------------------------------------------------------------------\n",
      "x1            -0.2313      0.018    -13.004      0.000      -0.266      -0.196\n",
      "==============================================================================\n",
      "Confusion Matrix : \n",
      " [[58538     0]\n",
      " [45052     0]]\n",
      "Test accuracy =  0.5650931557100106\n",
      "              precision    recall  f1-score   support\n",
      "\n",
      "        male       0.57      1.00      0.72     58538\n",
      "      female       0.00      0.00      0.00     45052\n",
      "\n",
      "    accuracy                           0.57    103590\n",
      "   macro avg       0.28      0.50      0.36    103590\n",
      "weighted avg       0.32      0.57      0.41    103590\n",
      "\n"
     ]
    },
    {
     "name": "stderr",
     "output_type": "stream",
     "text": [
      "/private/var/containers/Bundle/Application/D721E0D6-082D-4E31-B46E-9646375762C3/Carnets-sci.app/Library/lib/python3.11/site-packages/sklearn/metrics/_classification.py:1344: UndefinedMetricWarning: Precision and F-score are ill-defined and being set to 0.0 in labels with no predicted samples. Use `zero_division` parameter to control this behavior.\n",
      "  _warn_prf(average, modifier, msg_start, len(result))\n",
      "/private/var/containers/Bundle/Application/D721E0D6-082D-4E31-B46E-9646375762C3/Carnets-sci.app/Library/lib/python3.11/site-packages/sklearn/metrics/_classification.py:1344: UndefinedMetricWarning: Precision and F-score are ill-defined and being set to 0.0 in labels with no predicted samples. Use `zero_division` parameter to control this behavior.\n",
      "  _warn_prf(average, modifier, msg_start, len(result))\n",
      "/private/var/containers/Bundle/Application/D721E0D6-082D-4E31-B46E-9646375762C3/Carnets-sci.app/Library/lib/python3.11/site-packages/sklearn/metrics/_classification.py:1344: UndefinedMetricWarning: Precision and F-score are ill-defined and being set to 0.0 in labels with no predicted samples. Use `zero_division` parameter to control this behavior.\n",
      "  _warn_prf(average, modifier, msg_start, len(result))\n"
     ]
    }
   ],
   "source": [
    "combined_df['Gender'] = le.fit_transform(combined_df['Gender'])\n",
    "X = combined_df['Gender'].values\n",
    "y = combined_df['satisfaction']\n",
    "# train the model\n",
    "X_train, X_test, y_train, y_test = train_test_split(X,y, test_size=.80, random_state=1)\n",
    "X = sm.add_constant(X_train)\n",
    "model1 = sm.Logit(y_train,X_train).fit()\n",
    "print(model1.summary())\n",
    "# make prediction\n",
    "yhat = model1.predict(X_test)\n",
    "prediction = list(map(round, yhat))\n",
    "\n",
    "# checking for model accuracy using confusion matrix\n",
    "from sklearn.metrics import (confusion_matrix, accuracy_score) \n",
    "\n",
    "# confusion matrix \n",
    "cm = confusion_matrix(y_test, prediction)  \n",
    "print (\"Confusion Matrix : \\n\", cm)  \n",
    "  \n",
    "# accuracy score of the model \n",
    "print('Test accuracy = ', accuracy_score(y_test, prediction))\n",
    "from sklearn.metrics import precision_score, f1_score\n",
    "\n",
    "# Set zero_division parameter\n",
    "precision = precision_score(y_test, prediction, zero_division=1)\n",
    "f1 = f1_score(y_test, prediction, zero_division=0)\n",
    "\n",
    "from sklearn.metrics import classification_report\n",
    "target_names = ['male', 'female']\n",
    "print(classification_report(y_test, prediction, target_names=target_names))\n",
    "\n"
   ]
  },
  {
   "cell_type": "markdown",
   "metadata": {},
   "source": [
    "#### Interpretation: For every unit change in Gender (from male to female), the odds of being satisfied are 0.63(e^0.23) times higher."
   ]
  },
  {
   "cell_type": "markdown",
   "metadata": {},
   "source": [
    "#### What is the average departure delay in minutes?"
   ]
  },
  {
   "cell_type": "code",
   "execution_count": 20,
   "metadata": {},
   "outputs": [
    {
     "data": {
      "text/plain": [
       "14.643385050236704"
      ]
     },
     "execution_count": 20,
     "metadata": {},
     "output_type": "execute_result"
    }
   ],
   "source": [
    "combined_df['Departure Delay in Minutes'].mean()"
   ]
  },
  {
   "cell_type": "markdown",
   "metadata": {},
   "source": [
    "#### The average above corresponds with the average departure delay time in minutes worldwide."
   ]
  },
  {
   "cell_type": "code",
   "execution_count": 21,
   "metadata": {},
   "outputs": [
    {
     "data": {
      "text/html": [
       "<style type=\"text/css\">\n",
       "#T_b9f18_row0_col0, #T_b9f18_row1_col1 {\n",
       "  background-color: #f7fbff;\n",
       "  color: #000000;\n",
       "}\n",
       "#T_b9f18_row0_col1, #T_b9f18_row1_col0 {\n",
       "  background-color: #08306b;\n",
       "  color: #f1f1f1;\n",
       "}\n",
       "</style>\n",
       "<table id=\"T_b9f18\">\n",
       "  <thead>\n",
       "    <tr>\n",
       "      <th class=\"index_name level0\" >satisfaction</th>\n",
       "      <th id=\"T_b9f18_level0_col0\" class=\"col_heading level0 col0\" >0</th>\n",
       "      <th id=\"T_b9f18_level0_col1\" class=\"col_heading level0 col1\" >1</th>\n",
       "    </tr>\n",
       "    <tr>\n",
       "      <th class=\"index_name level0\" >Customer Type</th>\n",
       "      <th class=\"blank col0\" >&nbsp;</th>\n",
       "      <th class=\"blank col1\" >&nbsp;</th>\n",
       "    </tr>\n",
       "  </thead>\n",
       "  <tbody>\n",
       "    <tr>\n",
       "      <th id=\"T_b9f18_level0_row0\" class=\"row_heading level0 row0\" >Loyal Customer</th>\n",
       "      <td id=\"T_b9f18_row0_col0\" class=\"data row0 col0\" >52.186286</td>\n",
       "      <td id=\"T_b9f18_row0_col1\" class=\"data row0 col1\" >47.813714</td>\n",
       "    </tr>\n",
       "    <tr>\n",
       "      <th id=\"T_b9f18_level0_row1\" class=\"row_heading level0 row1\" >disloyal Customer</th>\n",
       "      <td id=\"T_b9f18_row1_col0\" class=\"data row1 col0\" >76.014169</td>\n",
       "      <td id=\"T_b9f18_row1_col1\" class=\"data row1 col1\" >23.985831</td>\n",
       "    </tr>\n",
       "  </tbody>\n",
       "</table>\n"
      ],
      "text/plain": [
       "<pandas.io.formats.style.Styler at 0x14bd9f250>"
      ]
     },
     "execution_count": 21,
     "metadata": {},
     "output_type": "execute_result"
    }
   ],
   "source": [
    "df7 = combined_df.groupby('Customer Type')['satisfaction'].value_counts(normalize=True).unstack() * 100\n",
    "df7.style.background_gradient(cmap='Blues')"
   ]
  },
  {
   "cell_type": "markdown",
   "metadata": {},
   "source": [
    "#### Results from analysis above shows that the 76% of neutral or unsatisfied Individuals are those Under the categories of Disloyal Customers while 47% of Loyal Customers are satisfied."
   ]
  },
  {
   "cell_type": "code",
   "execution_count": 22,
   "metadata": {},
   "outputs": [
    {
     "name": "stdout",
     "output_type": "stream",
     "text": [
      "                                 OLS Regression Results                                \n",
      "=======================================================================================\n",
      "Dep. Variable:           satisfaction   R-squared (uncentered):                   0.025\n",
      "Model:                            OLS   Adj. R-squared (uncentered):              0.024\n",
      "Method:                 Least Squares   F-statistic:                              650.5\n",
      "Date:                Thu, 07 Nov 2024   Prob (F-statistic):                   9.91e-142\n",
      "Time:                        11:21:12   Log-Likelihood:                         -25583.\n",
      "No. Observations:               25897   AIC:                                  5.117e+04\n",
      "Df Residuals:                   25896   BIC:                                  5.118e+04\n",
      "Df Model:                           1                                                  \n",
      "Covariance Type:            nonrobust                                                  \n",
      "==============================================================================\n",
      "                 coef    std err          t      P>|t|      [0.025      0.975]\n",
      "------------------------------------------------------------------------------\n",
      "x1             0.2412      0.009     25.504      0.000       0.223       0.260\n",
      "==============================================================================\n",
      "Omnibus:                   100013.694   Durbin-Watson:                   1.280\n",
      "Prob(Omnibus):                  0.000   Jarque-Bera (JB):             3784.770\n",
      "Skew:                           0.221   Prob(JB):                         0.00\n",
      "Kurtosis:                       1.180   Cond. No.                         1.00\n",
      "==============================================================================\n",
      "\n",
      "Notes:\n",
      "[1] R² is computed without centering (uncentered) since the model does not contain a constant.\n",
      "[2] Standard Errors assume that the covariance matrix of the errors is correctly specified.\n"
     ]
    }
   ],
   "source": [
    "combined_df['Customer Type'] = le.fit_transform(combined_df['Customer Type'])\n",
    "X = combined_df['Customer Type'].values\n",
    "y = combined_df['satisfaction']\n",
    "# train the model\n",
    "X_train, X_test, y_train, y_test = train_test_split(X,y, test_size=.80, random_state=1)\n",
    "# fit model\n",
    "X = sm.add_constant(X_train)\n",
    "model2 = sm.OLS(y_train,X_train).fit()\n",
    "print(model2.summary())"
   ]
  },
  {
   "cell_type": "markdown",
   "metadata": {},
   "source": []
  },
  {
   "cell_type": "markdown",
   "metadata": {},
   "source": [
    "### Hypothesis Testing\n",
    "#### H0: There is no relationship between dependent variable(satisfaction and independent variable(Customer type)\n",
    "#### H1: There is exists relationship between dependent variable(satisfaction and independent variable(Customer type)\n",
    "#### (where p-value is <0.05 reject H0 and accept H1, and where p-value is >0.05 you accept H0 and reject H1)\n",
    "#### Since p-value of Customer type is 0.000 which is less than 0.05 you accept H1 which sates that \"There is exists relationship between dependent variable(satisfaction and independent variable(Customer type)\". This means that customer type (Loyal or disloyal Customers) affects satisfaction level."
   ]
  },
  {
   "cell_type": "code",
   "execution_count": 23,
   "metadata": {},
   "outputs": [
    {
     "name": "stdout",
     "output_type": "stream",
     "text": [
      "Chi-Squared Statistic: 4475.155050825033\n",
      "P-value: 0.0\n",
      "Degrees of Freedom: 1\n",
      "Reject null hypothesis: There is no significant relationship between customer type and satisfaction.\n"
     ]
    }
   ],
   "source": [
    "from scipy.stats import chi2_contingency\n",
    "\n",
    "# Define contingency table\n",
    "contingency_table = pd.crosstab(combined_df['Customer Type'], combined_df['satisfaction'])\n",
    "\n",
    "# Perform chi-squared test\n",
    "chi2_stat, p_value, dof, expected = chi2_contingency(contingency_table)\n",
    "\n",
    "# Print results\n",
    "print(\"Chi-Squared Statistic:\", chi2_stat)\n",
    "print(\"P-value:\", p_value)\n",
    "print(\"Degrees of Freedom:\", dof)\n",
    "\n",
    "# Interpret results\n",
    "if p_value < 0.05:\n",
    "    print(\"Reject null hypothesis: There is no significant relationship between customer type and satisfaction.\")\n",
    "else:\n",
    "    print(\"Fail to reject null hypothesis: There is significant relationship between customer type and satisfaction\")"
   ]
  },
  {
   "cell_type": "markdown",
   "metadata": {},
   "source": [
    "#### The P-value from this chi squared test confirms the p-value from the Linear regression above."
   ]
  },
  {
   "cell_type": "markdown",
   "metadata": {},
   "source": [
    "### How is overall satisfaction related to flight distances and age demographics?"
   ]
  },
  {
   "cell_type": "code",
   "execution_count": 24,
   "metadata": {},
   "outputs": [
    {
     "name": "stdout",
     "output_type": "stream",
     "text": [
      "                                 OLS Regression Results                                \n",
      "=======================================================================================\n",
      "Dep. Variable:           satisfaction   R-squared (uncentered):                   0.506\n",
      "Model:                            OLS   Adj. R-squared (uncentered):              0.506\n",
      "Method:                 Least Squares   F-statistic:                          1.325e+04\n",
      "Date:                Thu, 07 Nov 2024   Prob (F-statistic):                        0.00\n",
      "Time:                        11:21:12   Log-Likelihood:                         -25146.\n",
      "No. Observations:               38846   AIC:                                  5.030e+04\n",
      "Df Residuals:                   38843   BIC:                                  5.032e+04\n",
      "Df Model:                           3                                                  \n",
      "Covariance Type:            nonrobust                                                  \n",
      "==============================================================================\n",
      "                 coef    std err          t      P>|t|      [0.025      0.975]\n",
      "------------------------------------------------------------------------------\n",
      "x1             0.0485      0.001     35.060      0.000       0.046       0.051\n",
      "x2             0.0891      0.001     67.239      0.000       0.086       0.092\n",
      "x3            -0.0007    6.1e-05    -11.153      0.000      -0.001      -0.001\n",
      "==============================================================================\n",
      "Omnibus:                   178652.949   Durbin-Watson:                   1.994\n",
      "Prob(Omnibus):                  0.000   Jarque-Bera (JB):             4683.694\n",
      "Skew:                           0.213   Prob(JB):                         0.00\n",
      "Kurtosis:                       1.353   Cond. No.                         32.1\n",
      "==============================================================================\n",
      "\n",
      "Notes:\n",
      "[1] R² is computed without centering (uncentered) since the model does not contain a constant.\n",
      "[2] Standard Errors assume that the covariance matrix of the errors is correctly specified.\n"
     ]
    }
   ],
   "source": [
    "combined_df['Age'] = le.fit_transform(combined_df['Age'])\n",
    "\n",
    "X = combined_df[['Age', 'Flight Distance']]\n",
    "y = combined_df['satisfaction']\n",
    "X_train, X_test, y_train, y_test = train_test_split(X,y, test_size=.70, random_state=1)\n",
    "X = sm.add_constant(X_train)\n",
    "model4 = sm.OLS(y_train,X_train).fit()\n",
    "print(model.summary())\n"
   ]
  },
  {
   "cell_type": "markdown",
   "metadata": {},
   "source": [
    "#### A unit increase or change in Age will lead to a 0.098 increase in satisfaction rate.\n",
    "#### A unit increase in Flight distance on the otherhand leads to a 0.0007 decrease in satisfaction rate.\n",
    "#### DW results shows that there is absence of multicolinearity among independent variables.\n",
    "#### R-squared shows that the model effectively expalins the relationship between the dependent and independent variables.\n",
    "#### p-values of both independent variables are below 0.05 significant level which means that there exists a significant relationship between the dependent and independent variables.That is variables are associated."
   ]
  },
  {
   "cell_type": "markdown",
   "metadata": {},
   "source": [
    "### Are higher class passengers more satisfied than lower class passengers?"
   ]
  },
  {
   "cell_type": "code",
   "execution_count": 27,
   "metadata": {},
   "outputs": [
    {
     "data": {
      "text/html": [
       "<style type=\"text/css\">\n",
       "#T_fd826_row0_col0, #T_fd826_row1_col1 {\n",
       "  background-color: #fff5eb;\n",
       "  color: #000000;\n",
       "}\n",
       "#T_fd826_row0_col1, #T_fd826_row1_col0 {\n",
       "  background-color: #7f2704;\n",
       "  color: #f1f1f1;\n",
       "}\n",
       "#T_fd826_row2_col0 {\n",
       "  background-color: #a23503;\n",
       "  color: #f1f1f1;\n",
       "}\n",
       "#T_fd826_row2_col1 {\n",
       "  background-color: #fee7d1;\n",
       "  color: #000000;\n",
       "}\n",
       "</style>\n",
       "<table id=\"T_fd826\">\n",
       "  <thead>\n",
       "    <tr>\n",
       "      <th class=\"index_name level0\" >satisfaction</th>\n",
       "      <th id=\"T_fd826_level0_col0\" class=\"col_heading level0 col0\" >0</th>\n",
       "      <th id=\"T_fd826_level0_col1\" class=\"col_heading level0 col1\" >1</th>\n",
       "    </tr>\n",
       "    <tr>\n",
       "      <th class=\"index_name level0\" >Class</th>\n",
       "      <th class=\"blank col0\" >&nbsp;</th>\n",
       "      <th class=\"blank col1\" >&nbsp;</th>\n",
       "    </tr>\n",
       "  </thead>\n",
       "  <tbody>\n",
       "    <tr>\n",
       "      <th id=\"T_fd826_level0_row0\" class=\"row_heading level0 row0\" >Business</th>\n",
       "      <td id=\"T_fd826_row0_col0\" class=\"data row0 col0\" >30.553315</td>\n",
       "      <td id=\"T_fd826_row0_col1\" class=\"data row0 col1\" >69.446685</td>\n",
       "    </tr>\n",
       "    <tr>\n",
       "      <th id=\"T_fd826_level0_row1\" class=\"row_heading level0 row1\" >Eco</th>\n",
       "      <td id=\"T_fd826_row1_col0\" class=\"data row1 col0\" >81.241289</td>\n",
       "      <td id=\"T_fd826_row1_col1\" class=\"data row1 col1\" >18.758711</td>\n",
       "    </tr>\n",
       "    <tr>\n",
       "      <th id=\"T_fd826_level0_row2\" class=\"row_heading level0 row2\" >Eco Plus</th>\n",
       "      <td id=\"T_fd826_row2_col0\" class=\"data row2 col0\" >75.373134</td>\n",
       "      <td id=\"T_fd826_row2_col1\" class=\"data row2 col1\" >24.626866</td>\n",
       "    </tr>\n",
       "  </tbody>\n",
       "</table>\n"
      ],
      "text/plain": [
       "<pandas.io.formats.style.Styler at 0x136ecf210>"
      ]
     },
     "execution_count": 27,
     "metadata": {},
     "output_type": "execute_result"
    }
   ],
   "source": [
    "# Where 0 is neutral or unsatisfied and 1 is satisfied\n",
    "df8 = combined_df.groupby('Class')['satisfaction'].value_counts(normalize=True).unstack() * 100\n",
    "df8.style.background_gradient(cmap='Oranges')"
   ]
  },
  {
   "cell_type": "markdown",
   "metadata": {},
   "source": [
    "#### Results show that Higher Class travellers are more satified with the flight services with up to 69% satisfaction rate when compared with satisfaction rates of other classes which are 18% and 24% for Eco and Eco plus classes respectively.\n",
    "#### On the otherhand Eco Class passengers are the most unsatisfied or neutrally satisfied with the flight services with upto 81% neutral or unsatisfied rate."
   ]
  },
  {
   "cell_type": "code",
   "execution_count": null,
   "metadata": {},
   "outputs": [],
   "source": []
  },
  {
   "cell_type": "code",
   "execution_count": null,
   "metadata": {},
   "outputs": [],
   "source": []
  }
 ],
 "metadata": {
  "kernelspec": {
   "display_name": "Python 3 (ipykernel)",
   "language": "python",
   "name": "python3"
  },
  "language_info": {
   "codemirror_mode": {
    "name": "ipython",
    "version": 3
   },
   "file_extension": ".py",
   "mimetype": "text/x-python",
   "name": "python",
   "nbconvert_exporter": "python",
   "pygments_lexer": "ipython3",
   "version": "3.11.0"
  }
 },
 "nbformat": 4,
 "nbformat_minor": 4
}
